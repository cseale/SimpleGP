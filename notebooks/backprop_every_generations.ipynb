{
 "cells": [
  {
   "cell_type": "code",
   "execution_count": 1,
   "metadata": {},
   "outputs": [],
   "source": [
    "import os "
   ]
  },
  {
   "cell_type": "markdown",
   "metadata": {},
   "source": [
    "### Find Best Params\n",
    "\n",
    "First find the best params"
   ]
  },
  {
   "cell_type": "code",
   "execution_count": 8,
   "metadata": {},
   "outputs": [],
   "source": [
    "def file_read_from_tail(fname,lines):\n",
    "        fname = fname\n",
    "        bufsize = 8192\n",
    "        fsize = os.stat(fname).st_size\n",
    "        iter = 0\n",
    "        with open(fname) as f:\n",
    "                if bufsize > fsize:\n",
    "                        bufsize = fsize-1\n",
    "                        data = []\n",
    "                        while True:\n",
    "                                iter +=1\n",
    "                                f.seek(fsize-bufsize*iter)\n",
    "                                data.extend(f.readlines())\n",
    "                                if len(data) >= lines or f.tell() == 0:\n",
    "                                        return data[-lines:]\n"
   ]
  },
  {
   "cell_type": "code",
   "execution_count": 24,
   "metadata": {},
   "outputs": [],
   "source": [
    "def parse_mse(line):\n",
    "    mse = float(line.strip()[4:])\n",
    "    return mse\n",
    "\n",
    "def get_key(f):\n",
    "    k = f[:-6]\n",
    "    if k[-1] == \"_\":\n",
    "        return f[:-7]\n",
    "    else:\n",
    "        return k"
   ]
  },
  {
   "cell_type": "code",
   "execution_count": 27,
   "metadata": {},
   "outputs": [],
   "source": [
    "from statistics import mean, stdev\n",
    "\n",
    "def aggregateParams(experiment_dir):\n",
    "    files = os.listdir(experiment_dir)\n",
    "    \n",
    "    mse_to_params = {}\n",
    "    params_to_mse = {}\n",
    "    \n",
    "    # aggregate mse\n",
    "    for f in files:\n",
    "        key = get_key(f)\n",
    "        d = file_read_from_tail(experiment_dir + f,3)\n",
    "        if d == None:\n",
    "            continue\n",
    "        mse = parse_mse(d[0])\n",
    "        \n",
    "        if key not in params_to_mse:\n",
    "            params_to_mse[key] = []\n",
    "        \n",
    "        params_to_mse[key].append(mse)\n",
    "                \n",
    "    # flip and sort mses\n",
    "    all_mse = []\n",
    "    for params in params_to_mse:\n",
    "        # get means and standard deviations\n",
    "        mean_mse = mean(params_to_mse[params])\n",
    "        std_mse = stdev(params_to_mse[params])\n",
    "        # reassign\n",
    "        params_to_mse[params] = (mean_mse, std_mse)\n",
    "        # sort means\n",
    "        all_mse.append(mean_mse)\n",
    "        mse_to_params[mean_mse] = params\n",
    "                 \n",
    "    all_mse.sort()\n",
    "\n",
    "    # return top 5 mses\n",
    "    results = []    \n",
    "    for i in range(5):\n",
    "        params = mse_to_params[all_mse[i]]\n",
    "        (mean_mse, std_mse) = params_to_mse[params]\n",
    "        print(\"Result \" + str(i) + \": \" +  str(params) + \" with mean mse \" + str(mean_mse) + \", std mse \" + str(std_mse))\n",
    "        results.append(params)\n",
    "            \n",
    "    return results, params_to_mse, mse_to_params, all_mse"
   ]
  },
  {
   "cell_type": "code",
   "execution_count": 28,
   "metadata": {},
   "outputs": [
    {
     "name": "stdout",
     "output_type": "stream",
     "text": [
      "Result 0: maxtime20_pop512_mr0.001_tour8_maxHeight2_cr1_bpeverygen10 with mean mse 4921.5548, std mse 920.4438200685581\n",
      "Result 1: maxtime20_pop512_mr0.001_tour8_maxHeight2_cr1 with mean mse 4988.2659, std mse 1133.1624242463556\n",
      "Result 2: maxtime20_pop512_mr0.001_tour8_maxHeight2_cr1_bpeverygen20 with mean mse 5192.3958, std mse 1370.9129199891906\n",
      "Result 3: maxtime20_pop512_mr0.001_tour8_maxHeight2_cr1_bpeverygen50 with mean mse 5466.2346, std mse 872.6040260407286\n",
      "Result 4: maxtime20_pop512_mr0.001_tour8_maxHeight2_cr1_bpeverygen100 with mean mse 5520.9209, std mse 1135.7488312561256\n"
     ]
    }
   ],
   "source": [
    "all_results, all_params_to_mse, all_mse_to_params, all_mse = aggregateParams(\"../experiments/\")"
   ]
  },
  {
   "cell_type": "markdown",
   "metadata": {},
   "source": [
    "### Analyse Simple GP Behaviour\n",
    "\n",
    "Holding all other variables constant, lets see what affect the params have"
   ]
  },
  {
   "cell_type": "code",
   "execution_count": null,
   "metadata": {},
   "outputs": [],
   "source": [
    "def calc_means_and_stds(template_str, options):\n",
    "    values = []\n",
    "    for o in options:\n",
    "        key = template_str.format(o)\n",
    "        values.append((o ,all_params_to_mse[key]))\n",
    "    return values"
   ]
  },
  {
   "cell_type": "code",
   "execution_count": null,
   "metadata": {},
   "outputs": [],
   "source": [
    "import matplotlib.pyplot as plt\n",
    "import numpy as np\n",
    "\n",
    "def errorbar_plot(values):\n",
    "    x = [] \n",
    "    y =[] \n",
    "    e = []\n",
    "    \n",
    "    for v in values:\n",
    "        x.append(v[0])\n",
    "        y.append(v[1][0])\n",
    "        e.append(v[1][1])\n",
    "    \n",
    "    x = np.array(x)\n",
    "    y = np.array(y)\n",
    "    e = np.array(e)\n",
    "    plt.errorbar(x, y, e, linestyle='-', marker='^')\n",
    "    plt.show()"
   ]
  },
  {
   "cell_type": "code",
   "execution_count": null,
   "metadata": {},
   "outputs": [],
   "source": [
    "#### Variation with population size\n",
    "\n",
    "template_pop_f = \"maxtime20_pop{}_mr0.01_tour8_maxHeight2_cr1\"\n",
    "populations = [64, 128, 256, 512, 1024, 2048, 4096, 8192]\n",
    "\n",
    "errorbar_plot(calc_means_and_stds(template_pop_f, populations))"
   ]
  },
  {
   "cell_type": "code",
   "execution_count": null,
   "metadata": {},
   "outputs": [],
   "source": [
    "#### Variation with mutation rate\n",
    "\n",
    "template_mr_f = \"maxtime20_pop512_mr{}_tour8_maxHeight2_cr1\"\n",
    "mutation_rates = [0, 0.001, 0.01, 0.1]\n",
    "\n",
    "errorbar_plot(calc_means_and_stds(template_mr_f, mutation_rates))"
   ]
  },
  {
   "cell_type": "code",
   "execution_count": null,
   "metadata": {},
   "outputs": [],
   "source": [
    "#### Variation with tour size\n",
    "\n",
    "template_tour_f = \"maxtime20_pop512_mr0.01_tour{}_maxHeight2_cr1\"\n",
    "tour_size = [2, 4, 8]\n",
    "\n",
    "errorbar_plot(calc_means_and_stds(template_tour_f, tour_size))"
   ]
  },
  {
   "cell_type": "code",
   "execution_count": null,
   "metadata": {},
   "outputs": [],
   "source": [
    "#### Variation with max height\n",
    "\n",
    "template_max_f = \"maxtime20_pop512_mr0.01_tour8_maxHeight{}_cr1\"\n",
    "maxHeights = [2, 4, 8]\n",
    "\n",
    "errorbar_plot(calc_means_and_stds(template_max_f, maxHeights))"
   ]
  },
  {
   "cell_type": "code",
   "execution_count": null,
   "metadata": {},
   "outputs": [],
   "source": [
    "#### Variation with crossover rate\n",
    "\n",
    "template_cr_f = \"maxtime20_pop512_mr0.01_tour8_maxHeight2_cr{}\"\n",
    "crossoverRates = [0.25, 0.5, 0.75, 1] \n",
    "\n",
    "errorbar_plot(calc_means_and_stds(template_cr_f, crossoverRates))"
   ]
  },
  {
   "cell_type": "code",
   "execution_count": null,
   "metadata": {},
   "outputs": [],
   "source": [
    "#### Variation with max time\n",
    "\n",
    "template_mt_f = \"maxtime{}_pop512_mr0.01_tour8_maxHeight2_cr1\"\n",
    "maxTime = [5, 10, 15, 20]\n",
    "\n",
    "errorbar_plot(calc_means_and_stds(template_mt_f, maxTime))"
   ]
  },
  {
   "cell_type": "code",
   "execution_count": null,
   "metadata": {},
   "outputs": [],
   "source": []
  }
 ],
 "metadata": {
  "kernelspec": {
   "display_name": "Python 3",
   "language": "python",
   "name": "python3"
  },
  "language_info": {
   "codemirror_mode": {
    "name": "ipython",
    "version": 3
   },
   "file_extension": ".py",
   "mimetype": "text/x-python",
   "name": "python",
   "nbconvert_exporter": "python",
   "pygments_lexer": "ipython3",
   "version": "3.6.4"
  }
 },
 "nbformat": 4,
 "nbformat_minor": 2
}

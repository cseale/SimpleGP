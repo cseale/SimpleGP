{
 "cells": [
  {
   "cell_type": "code",
   "execution_count": 7,
   "metadata": {},
   "outputs": [],
   "source": [
    "import os \n",
    "import progressbar\n",
    "\n",
    "from utils import aggregateParams"
   ]
  },
  {
   "cell_type": "markdown",
   "metadata": {},
   "source": [
    "### Find Best Params\n",
    "\n",
    "First find the best params"
   ]
  },
  {
   "cell_type": "code",
   "execution_count": 8,
   "metadata": {},
   "outputs": [
    {
     "name": "stderr",
     "output_type": "stream",
     "text": [
      "100% (120 of 120) |######################| Elapsed Time: 0:00:00 Time:  0:00:00\n"
     ]
    },
    {
     "name": "stdout",
     "output_type": "stream",
     "text": [
      "Result 0: maxtime20_pop512_mr0.001_tour8_maxHeight2_cr1 with mean mse 4604.15995, std mse 1257.4950484959531\n",
      "Result 1: maxtime20_pop512_mr0.001_tour8_maxHeight2_cr1_bpeverygen2 with mean mse 5180.5432, std mse 1210.403553283719\n",
      "Result 2: maxtime20_pop512_mr0.001_tour8_maxHeight2_cr1_bpeverygen8 with mean mse 5206.94805, std mse 1231.7692722103127\n",
      "Result 3: maxtime20_pop512_mr0.001_tour8_maxHeight2_cr1_bpeverygen24 with mean mse 5280.33975, std mse 1274.0304865188098\n",
      "Result 4: maxtime20_pop512_mr0.001_tour8_maxHeight2_cr1_bpeverygen4 with mean mse 5311.7082, std mse 1404.9944441585076\n",
      "Result 5: maxtime20_pop512_mr0.001_tour8_maxHeight2_cr1_bpeverygen16 with mean mse 5355.71295, std mse 1250.3881050596997\n"
     ]
    }
   ],
   "source": [
    "all_results, all_params_to_mse, all_mse_to_params, all_mse = aggregateParams(\"../experiments_20crossval_bp_every_gen/\")"
   ]
  },
  {
   "cell_type": "markdown",
   "metadata": {},
   "source": [
    "### Analyse Simple GP Behaviour\n",
    "\n",
    "Holding all other variables constant, lets see what affect the params have"
   ]
  },
  {
   "cell_type": "code",
   "execution_count": 9,
   "metadata": {},
   "outputs": [],
   "source": [
    "from plot import calc_means_and_stds, errorbar_plot"
   ]
  },
  {
   "cell_type": "code",
   "execution_count": 10,
   "metadata": {},
   "outputs": [
    {
     "data": {
      "text/plain": [
       "{'maxtime20_pop512_mr0.001_tour8_maxHeight2_cr1': (4604.15995,\n",
       "  1257.4950484959531),\n",
       " 'maxtime20_pop512_mr0.001_tour8_maxHeight2_cr1_bpeverygen16': (5355.71295,\n",
       "  1250.3881050596997),\n",
       " 'maxtime20_pop512_mr0.001_tour8_maxHeight2_cr1_bpeverygen2': (5180.5432,\n",
       "  1210.403553283719),\n",
       " 'maxtime20_pop512_mr0.001_tour8_maxHeight2_cr1_bpeverygen24': (5280.33975,\n",
       "  1274.0304865188098),\n",
       " 'maxtime20_pop512_mr0.001_tour8_maxHeight2_cr1_bpeverygen4': (5311.7082,\n",
       "  1404.9944441585076),\n",
       " 'maxtime20_pop512_mr0.001_tour8_maxHeight2_cr1_bpeverygen8': (5206.94805,\n",
       "  1231.7692722103127)}"
      ]
     },
     "execution_count": 10,
     "metadata": {},
     "output_type": "execute_result"
    }
   ],
   "source": [
    "all_params_to_mse"
   ]
  },
  {
   "cell_type": "code",
   "execution_count": 13,
   "metadata": {},
   "outputs": [
    {
     "data": {
      "image/png": "[encoded data removed]",
      "text/plain": [
       "<Figure size 432x288 with 1 Axes>"
      ]
     },
     "metadata": {},
     "output_type": "display_data"
    },
    {
     "data": {
      "text/plain": [
       "[(1, (4604.15995, 1257.4950484959531)),\n",
       " (2, (5180.5432, 1210.403553283719)),\n",
       " (4, (5311.7082, 1404.9944441585076)),\n",
       " (8, (5206.94805, 1231.7692722103127)),\n",
       " (16, (5355.71295, 1250.3881050596997)),\n",
       " (24, (5280.33975, 1274.0304865188098))]"
      ]
     },
     "execution_count": 13,
     "metadata": {},
     "output_type": "execute_result"
    }
   ],
   "source": [
    "#### Variation with population size\n",
    "\n",
    "template_every_gen_f = \"maxtime20_pop512_mr0.001_tour8_maxHeight2_cr1_bpeverygen{}\"\n",
    "gens = [2, 4, 8, 16, 24]\n",
    "\n",
    "values = []\n",
    "values.append((1, all_params_to_mse[\"maxtime20_pop512_mr0.001_tour8_maxHeight2_cr1\"]))\n",
    "\n",
    "\n",
    "values = values + calc_means_and_stds(template_every_gen_f, gens, all_params_to_mse)\n",
    "\n",
    "\n",
    "errorbar_plot(values)\n",
    "\n",
    "values"
   ]
  },
  {
   "cell_type": "code",
   "execution_count": null,
   "metadata": {},
   "outputs": [],
   "source": []
  }
 ],
 "metadata": {
  "kernelspec": {
   "display_name": "Python 3",
   "language": "python",
   "name": "python3"
  },
  "language_info": {
   "codemirror_mode": {
    "name": "ipython",
    "version": 3
   },
   "file_extension": ".py",
   "mimetype": "text/x-python",
   "name": "python",
   "nbconvert_exporter": "python",
   "pygments_lexer": "ipython3",
   "version": "3.6.4"
  }
 },
 "nbformat": 4,
 "nbformat_minor": 2
}

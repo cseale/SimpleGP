{
 "cells": [
  {
   "cell_type": "markdown",
   "metadata": {},
   "source": [
    "# Investigate effect of backprop"
   ]
  },
  {
   "cell_type": "code",
   "execution_count": 1,
   "metadata": {},
   "outputs": [],
   "source": [
    "import os\n",
    "import pandas as pd"
   ]
  },
  {
   "cell_type": "code",
   "execution_count": 2,
   "metadata": {},
   "outputs": [],
   "source": [
    "experiments_dir = \"../experiments_backprop_improvement/\"\n",
    "files = [f for f in os.listdir(experiments_dir) if os.path.isfile(experiments_dir + f)]\n",
    "data = []\n",
    "for i, f in enumerate(files):\n",
    "    data.append(pd.read_csv(experiments_dir + f))"
   ]
  },
  {
   "cell_type": "code",
   "execution_count": 3,
   "metadata": {},
   "outputs": [],
   "source": [
    "k = []\n",
    "zeros = []\n",
    "\n",
    "\n",
    "for i in range(20):\n",
    "    zeros.append([])\n",
    "    k.append([])\n",
    "    for d in data:\n",
    "        gen_i = d[d[\"generation\"] == i]\n",
    "        k[i].append(gen_i)\n",
    "        zeros[i].append(gen_i[gen_i[\"diff_after_backprop\"] == 0].shape[0])\n",
    "    k[i] = pd.concat(k[i])"
   ]
  },
  {
   "cell_type": "code",
   "execution_count": 6,
   "metadata": {},
   "outputs": [
    {
     "name": "stdout",
     "output_type": "stream",
     "text": [
      "Proportion of trees which did not improve each generation through backprop\n"
     ]
    },
    {
     "data": {
      "image/png": "[encoded data removed]",
      "text/plain": [
       "<Figure size 432x288 with 1 Axes>"
      ]
     },
     "metadata": {},
     "output_type": "display_data"
    }
   ],
   "source": [
    "from statistics import mean, stdev, median\n",
    "from plot import errorbar_plot\n",
    "\n",
    "values = [(i, (mean(z)/512, stdev(z)/512)) for i, z in enumerate(zeros)]\n",
    "\n",
    "print(\"Proportion of trees which did not improve each generation through backprop\")\n",
    "errorbar_plot(values)"
   ]
  },
  {
   "cell_type": "code",
   "execution_count": 15,
   "metadata": {},
   "outputs": [
    {
     "name": "stdout",
     "output_type": "stream",
     "text": [
      "Mean value of improvement\n"
     ]
    },
    {
     "data": {
      "image/png": "[encoded data removed]",
      "text/plain": [
       "<Figure size 432x288 with 1 Axes>"
      ]
     },
     "metadata": {},
     "output_type": "display_data"
    }
   ],
   "source": [
    "from statistics import mean, stdev, median\n",
    "from plot import errorbar_plot\n",
    "\n",
    "values = [(i, (z[\"diff_after_backprop\"].mean(), 0)) for i, z in enumerate(k)]\n",
    "\n",
    "print(\"Mean value of improvement\")\n",
    "errorbar_plot(values)"
   ]
  },
  {
   "cell_type": "code",
   "execution_count": 8,
   "metadata": {},
   "outputs": [
    {
     "data": {
      "text/html": [
       "<div>\n",
       "<style scoped>\n",
       "    .dataframe tbody tr th:only-of-type {\n",
       "        vertical-align: middle;\n",
       "    }\n",
       "\n",
       "    .dataframe tbody tr th {\n",
       "        vertical-align: top;\n",
       "    }\n",
       "\n",
       "    .dataframe thead th {\n",
       "        text-align: right;\n",
       "    }\n",
       "</style>\n",
       "<table border=\"1\" class=\"dataframe\">\n",
       "  <thead>\n",
       "    <tr style=\"text-align: right;\">\n",
       "      <th></th>\n",
       "      <th>generation</th>\n",
       "      <th>individual</th>\n",
       "      <th>diff_after_backprop</th>\n",
       "      <th>backprop_iterations</th>\n",
       "      <th>total_backprop_improvement</th>\n",
       "      <th>current_fitness</th>\n",
       "      <th>generations_alive</th>\n",
       "      <th>created_by</th>\n",
       "    </tr>\n",
       "  </thead>\n",
       "  <tbody>\n",
       "    <tr>\n",
       "      <th>9876</th>\n",
       "      <td>19</td>\n",
       "      <td>148</td>\n",
       "      <td>0.000000</td>\n",
       "      <td>1</td>\n",
       "      <td>0.000000</td>\n",
       "      <td>3388.432944</td>\n",
       "      <td>1</td>\n",
       "      <td>SubtreeCrossover</td>\n",
       "    </tr>\n",
       "    <tr>\n",
       "      <th>9821</th>\n",
       "      <td>19</td>\n",
       "      <td>93</td>\n",
       "      <td>0.000000</td>\n",
       "      <td>1</td>\n",
       "      <td>0.000000</td>\n",
       "      <td>3388.432944</td>\n",
       "      <td>1</td>\n",
       "      <td>SubtreeCrossover</td>\n",
       "    </tr>\n",
       "    <tr>\n",
       "      <th>9904</th>\n",
       "      <td>19</td>\n",
       "      <td>176</td>\n",
       "      <td>0.000000</td>\n",
       "      <td>1</td>\n",
       "      <td>0.000000</td>\n",
       "      <td>3388.432944</td>\n",
       "      <td>1</td>\n",
       "      <td>SubtreeCrossover</td>\n",
       "    </tr>\n",
       "    <tr>\n",
       "      <th>10063</th>\n",
       "      <td>19</td>\n",
       "      <td>335</td>\n",
       "      <td>0.000000</td>\n",
       "      <td>1</td>\n",
       "      <td>0.000000</td>\n",
       "      <td>3388.432944</td>\n",
       "      <td>1</td>\n",
       "      <td>SubtreeCrossover</td>\n",
       "    </tr>\n",
       "    <tr>\n",
       "      <th>10028</th>\n",
       "      <td>19</td>\n",
       "      <td>300</td>\n",
       "      <td>0.000000</td>\n",
       "      <td>1</td>\n",
       "      <td>0.000000</td>\n",
       "      <td>3388.432944</td>\n",
       "      <td>1</td>\n",
       "      <td>SubtreeCrossover</td>\n",
       "    </tr>\n",
       "    <tr>\n",
       "      <th>9795</th>\n",
       "      <td>19</td>\n",
       "      <td>67</td>\n",
       "      <td>0.000000</td>\n",
       "      <td>1</td>\n",
       "      <td>0.000000</td>\n",
       "      <td>3388.432944</td>\n",
       "      <td>1</td>\n",
       "      <td>SubtreeCrossover</td>\n",
       "    </tr>\n",
       "    <tr>\n",
       "      <th>9986</th>\n",
       "      <td>19</td>\n",
       "      <td>258</td>\n",
       "      <td>0.000000</td>\n",
       "      <td>1</td>\n",
       "      <td>0.000000</td>\n",
       "      <td>3388.432944</td>\n",
       "      <td>1</td>\n",
       "      <td>SubtreeCrossover</td>\n",
       "    </tr>\n",
       "    <tr>\n",
       "      <th>10202</th>\n",
       "      <td>19</td>\n",
       "      <td>474</td>\n",
       "      <td>0.000000</td>\n",
       "      <td>1</td>\n",
       "      <td>0.000000</td>\n",
       "      <td>3749.437424</td>\n",
       "      <td>1</td>\n",
       "      <td>SubtreeCrossover</td>\n",
       "    </tr>\n",
       "    <tr>\n",
       "      <th>10099</th>\n",
       "      <td>19</td>\n",
       "      <td>371</td>\n",
       "      <td>0.000000</td>\n",
       "      <td>10</td>\n",
       "      <td>103.248313</td>\n",
       "      <td>3759.196272</td>\n",
       "      <td>1</td>\n",
       "      <td>SubtreeCrossover</td>\n",
       "    </tr>\n",
       "    <tr>\n",
       "      <th>10065</th>\n",
       "      <td>19</td>\n",
       "      <td>337</td>\n",
       "      <td>0.000000</td>\n",
       "      <td>10</td>\n",
       "      <td>103.248313</td>\n",
       "      <td>3759.196272</td>\n",
       "      <td>1</td>\n",
       "      <td>SubtreeCrossover</td>\n",
       "    </tr>\n",
       "    <tr>\n",
       "      <th>10047</th>\n",
       "      <td>19</td>\n",
       "      <td>319</td>\n",
       "      <td>0.000000</td>\n",
       "      <td>10</td>\n",
       "      <td>103.248313</td>\n",
       "      <td>3759.196272</td>\n",
       "      <td>1</td>\n",
       "      <td>SubtreeCrossover</td>\n",
       "    </tr>\n",
       "    <tr>\n",
       "      <th>10026</th>\n",
       "      <td>19</td>\n",
       "      <td>298</td>\n",
       "      <td>0.000000</td>\n",
       "      <td>10</td>\n",
       "      <td>103.248313</td>\n",
       "      <td>3759.196272</td>\n",
       "      <td>1</td>\n",
       "      <td>SubtreeCrossover</td>\n",
       "    </tr>\n",
       "    <tr>\n",
       "      <th>10223</th>\n",
       "      <td>19</td>\n",
       "      <td>495</td>\n",
       "      <td>0.000000</td>\n",
       "      <td>10</td>\n",
       "      <td>103.248313</td>\n",
       "      <td>3759.196272</td>\n",
       "      <td>1</td>\n",
       "      <td>SubtreeCrossover</td>\n",
       "    </tr>\n",
       "    <tr>\n",
       "      <th>10166</th>\n",
       "      <td>19</td>\n",
       "      <td>438</td>\n",
       "      <td>0.000000</td>\n",
       "      <td>10</td>\n",
       "      <td>103.248313</td>\n",
       "      <td>3759.196272</td>\n",
       "      <td>1</td>\n",
       "      <td>SubtreeCrossover</td>\n",
       "    </tr>\n",
       "    <tr>\n",
       "      <th>10100</th>\n",
       "      <td>19</td>\n",
       "      <td>372</td>\n",
       "      <td>86.331414</td>\n",
       "      <td>10</td>\n",
       "      <td>90.802286</td>\n",
       "      <td>3759.372858</td>\n",
       "      <td>1</td>\n",
       "      <td>SubtreeCrossover</td>\n",
       "    </tr>\n",
       "    <tr>\n",
       "      <th>9981</th>\n",
       "      <td>19</td>\n",
       "      <td>253</td>\n",
       "      <td>0.000000</td>\n",
       "      <td>10</td>\n",
       "      <td>114.123010</td>\n",
       "      <td>3762.046030</td>\n",
       "      <td>1</td>\n",
       "      <td>SubtreeCrossover</td>\n",
       "    </tr>\n",
       "    <tr>\n",
       "      <th>9871</th>\n",
       "      <td>19</td>\n",
       "      <td>143</td>\n",
       "      <td>0.000000</td>\n",
       "      <td>10</td>\n",
       "      <td>117.716633</td>\n",
       "      <td>3762.526433</td>\n",
       "      <td>1</td>\n",
       "      <td>SubtreeCrossover</td>\n",
       "    </tr>\n",
       "    <tr>\n",
       "      <th>10155</th>\n",
       "      <td>19</td>\n",
       "      <td>427</td>\n",
       "      <td>0.000000</td>\n",
       "      <td>10</td>\n",
       "      <td>117.716633</td>\n",
       "      <td>3762.526433</td>\n",
       "      <td>1</td>\n",
       "      <td>SubtreeCrossover</td>\n",
       "    </tr>\n",
       "    <tr>\n",
       "      <th>9790</th>\n",
       "      <td>19</td>\n",
       "      <td>62</td>\n",
       "      <td>0.000000</td>\n",
       "      <td>10</td>\n",
       "      <td>117.716633</td>\n",
       "      <td>3762.526433</td>\n",
       "      <td>1</td>\n",
       "      <td>SubtreeCrossover</td>\n",
       "    </tr>\n",
       "    <tr>\n",
       "      <th>9966</th>\n",
       "      <td>19</td>\n",
       "      <td>238</td>\n",
       "      <td>0.000000</td>\n",
       "      <td>10</td>\n",
       "      <td>117.716633</td>\n",
       "      <td>3762.526433</td>\n",
       "      <td>1</td>\n",
       "      <td>SubtreeCrossover</td>\n",
       "    </tr>\n",
       "    <tr>\n",
       "      <th>10226</th>\n",
       "      <td>19</td>\n",
       "      <td>498</td>\n",
       "      <td>0.000000</td>\n",
       "      <td>10</td>\n",
       "      <td>107.479190</td>\n",
       "      <td>3763.860802</td>\n",
       "      <td>1</td>\n",
       "      <td>SubtreeCrossover</td>\n",
       "    </tr>\n",
       "    <tr>\n",
       "      <th>10195</th>\n",
       "      <td>19</td>\n",
       "      <td>467</td>\n",
       "      <td>0.000000</td>\n",
       "      <td>10</td>\n",
       "      <td>107.479190</td>\n",
       "      <td>3763.860802</td>\n",
       "      <td>1</td>\n",
       "      <td>SubtreeCrossover</td>\n",
       "    </tr>\n",
       "    <tr>\n",
       "      <th>10008</th>\n",
       "      <td>19</td>\n",
       "      <td>280</td>\n",
       "      <td>0.000000</td>\n",
       "      <td>10</td>\n",
       "      <td>107.479190</td>\n",
       "      <td>3763.860802</td>\n",
       "      <td>1</td>\n",
       "      <td>SubtreeCrossover</td>\n",
       "    </tr>\n",
       "    <tr>\n",
       "      <th>10220</th>\n",
       "      <td>19</td>\n",
       "      <td>492</td>\n",
       "      <td>0.000000</td>\n",
       "      <td>10</td>\n",
       "      <td>107.479190</td>\n",
       "      <td>3763.860802</td>\n",
       "      <td>1</td>\n",
       "      <td>SubtreeCrossover</td>\n",
       "    </tr>\n",
       "    <tr>\n",
       "      <th>9977</th>\n",
       "      <td>19</td>\n",
       "      <td>249</td>\n",
       "      <td>0.000000</td>\n",
       "      <td>10</td>\n",
       "      <td>107.479190</td>\n",
       "      <td>3763.860802</td>\n",
       "      <td>1</td>\n",
       "      <td>SubtreeCrossover</td>\n",
       "    </tr>\n",
       "    <tr>\n",
       "      <th>10037</th>\n",
       "      <td>19</td>\n",
       "      <td>309</td>\n",
       "      <td>0.000000</td>\n",
       "      <td>10</td>\n",
       "      <td>107.479190</td>\n",
       "      <td>3763.860802</td>\n",
       "      <td>1</td>\n",
       "      <td>SubtreeCrossover</td>\n",
       "    </tr>\n",
       "    <tr>\n",
       "      <th>9932</th>\n",
       "      <td>19</td>\n",
       "      <td>204</td>\n",
       "      <td>0.000000</td>\n",
       "      <td>10</td>\n",
       "      <td>107.479190</td>\n",
       "      <td>3763.860802</td>\n",
       "      <td>1</td>\n",
       "      <td>SubtreeCrossover</td>\n",
       "    </tr>\n",
       "    <tr>\n",
       "      <th>9931</th>\n",
       "      <td>19</td>\n",
       "      <td>203</td>\n",
       "      <td>0.000000</td>\n",
       "      <td>10</td>\n",
       "      <td>107.479190</td>\n",
       "      <td>3763.860802</td>\n",
       "      <td>1</td>\n",
       "      <td>SubtreeCrossover</td>\n",
       "    </tr>\n",
       "    <tr>\n",
       "      <th>10111</th>\n",
       "      <td>19</td>\n",
       "      <td>383</td>\n",
       "      <td>0.000000</td>\n",
       "      <td>10</td>\n",
       "      <td>109.555278</td>\n",
       "      <td>3764.584425</td>\n",
       "      <td>1</td>\n",
       "      <td>SubtreeCrossover</td>\n",
       "    </tr>\n",
       "    <tr>\n",
       "      <th>9924</th>\n",
       "      <td>19</td>\n",
       "      <td>196</td>\n",
       "      <td>0.000000</td>\n",
       "      <td>10</td>\n",
       "      <td>109.555278</td>\n",
       "      <td>3764.584425</td>\n",
       "      <td>1</td>\n",
       "      <td>SubtreeCrossover</td>\n",
       "    </tr>\n",
       "    <tr>\n",
       "      <th>...</th>\n",
       "      <td>...</td>\n",
       "      <td>...</td>\n",
       "      <td>...</td>\n",
       "      <td>...</td>\n",
       "      <td>...</td>\n",
       "      <td>...</td>\n",
       "      <td>...</td>\n",
       "      <td>...</td>\n",
       "    </tr>\n",
       "    <tr>\n",
       "      <th>10051</th>\n",
       "      <td>19</td>\n",
       "      <td>323</td>\n",
       "      <td>0.000000</td>\n",
       "      <td>30</td>\n",
       "      <td>106.812611</td>\n",
       "      <td>4925.343937</td>\n",
       "      <td>3</td>\n",
       "      <td>SubtreeCrossover</td>\n",
       "    </tr>\n",
       "    <tr>\n",
       "      <th>10052</th>\n",
       "      <td>19</td>\n",
       "      <td>324</td>\n",
       "      <td>0.000000</td>\n",
       "      <td>80</td>\n",
       "      <td>302.037749</td>\n",
       "      <td>4925.343937</td>\n",
       "      <td>8</td>\n",
       "      <td>SubtreeCrossoverSubtreeCrossoverSubtreeCrossover</td>\n",
       "    </tr>\n",
       "    <tr>\n",
       "      <th>10053</th>\n",
       "      <td>19</td>\n",
       "      <td>325</td>\n",
       "      <td>0.000000</td>\n",
       "      <td>20</td>\n",
       "      <td>70.417327</td>\n",
       "      <td>4925.343937</td>\n",
       "      <td>2</td>\n",
       "      <td>SubtreeCrossover</td>\n",
       "    </tr>\n",
       "    <tr>\n",
       "      <th>10054</th>\n",
       "      <td>19</td>\n",
       "      <td>326</td>\n",
       "      <td>0.000000</td>\n",
       "      <td>40</td>\n",
       "      <td>144.045052</td>\n",
       "      <td>4925.343937</td>\n",
       "      <td>4</td>\n",
       "      <td>SubtreeCrossoverSubtreeCrossover</td>\n",
       "    </tr>\n",
       "    <tr>\n",
       "      <th>10055</th>\n",
       "      <td>19</td>\n",
       "      <td>327</td>\n",
       "      <td>0.000000</td>\n",
       "      <td>100</td>\n",
       "      <td>386.953866</td>\n",
       "      <td>4925.343937</td>\n",
       "      <td>10</td>\n",
       "      <td>SubtreeCrossoverSubtreeCrossover</td>\n",
       "    </tr>\n",
       "    <tr>\n",
       "      <th>10056</th>\n",
       "      <td>19</td>\n",
       "      <td>328</td>\n",
       "      <td>0.000000</td>\n",
       "      <td>40</td>\n",
       "      <td>144.045052</td>\n",
       "      <td>4925.343937</td>\n",
       "      <td>4</td>\n",
       "      <td>SubtreeCrossover</td>\n",
       "    </tr>\n",
       "    <tr>\n",
       "      <th>10057</th>\n",
       "      <td>19</td>\n",
       "      <td>329</td>\n",
       "      <td>0.000000</td>\n",
       "      <td>90</td>\n",
       "      <td>343.973915</td>\n",
       "      <td>4925.343937</td>\n",
       "      <td>9</td>\n",
       "      <td>SubtreeCrossoverSubtreeCrossoverSubtreeCrossover</td>\n",
       "    </tr>\n",
       "    <tr>\n",
       "      <th>10058</th>\n",
       "      <td>19</td>\n",
       "      <td>330</td>\n",
       "      <td>0.000000</td>\n",
       "      <td>20</td>\n",
       "      <td>70.417327</td>\n",
       "      <td>4925.343937</td>\n",
       "      <td>2</td>\n",
       "      <td>SubtreeCrossover</td>\n",
       "    </tr>\n",
       "    <tr>\n",
       "      <th>10059</th>\n",
       "      <td>19</td>\n",
       "      <td>331</td>\n",
       "      <td>0.000000</td>\n",
       "      <td>90</td>\n",
       "      <td>343.973915</td>\n",
       "      <td>4925.343937</td>\n",
       "      <td>9</td>\n",
       "      <td>SubtreeCrossoverSubtreeCrossover</td>\n",
       "    </tr>\n",
       "    <tr>\n",
       "      <th>10060</th>\n",
       "      <td>19</td>\n",
       "      <td>332</td>\n",
       "      <td>0.000000</td>\n",
       "      <td>170</td>\n",
       "      <td>719.915485</td>\n",
       "      <td>4925.343937</td>\n",
       "      <td>17</td>\n",
       "      <td>SubtreeCrossoverSubtreeCrossoverSubtreeCrossov...</td>\n",
       "    </tr>\n",
       "    <tr>\n",
       "      <th>10061</th>\n",
       "      <td>19</td>\n",
       "      <td>333</td>\n",
       "      <td>0.000000</td>\n",
       "      <td>60</td>\n",
       "      <td>221.159783</td>\n",
       "      <td>4925.343937</td>\n",
       "      <td>6</td>\n",
       "      <td>SubtreeCrossoverSubtreeCrossoverSubtreeCrossover</td>\n",
       "    </tr>\n",
       "    <tr>\n",
       "      <th>10062</th>\n",
       "      <td>19</td>\n",
       "      <td>334</td>\n",
       "      <td>0.000000</td>\n",
       "      <td>30</td>\n",
       "      <td>106.812611</td>\n",
       "      <td>4925.343937</td>\n",
       "      <td>3</td>\n",
       "      <td>SubtreeCrossover</td>\n",
       "    </tr>\n",
       "    <tr>\n",
       "      <th>10063</th>\n",
       "      <td>19</td>\n",
       "      <td>335</td>\n",
       "      <td>0.000000</td>\n",
       "      <td>10</td>\n",
       "      <td>34.824618</td>\n",
       "      <td>4925.343937</td>\n",
       "      <td>1</td>\n",
       "      <td>SubtreeCrossover</td>\n",
       "    </tr>\n",
       "    <tr>\n",
       "      <th>10064</th>\n",
       "      <td>19</td>\n",
       "      <td>336</td>\n",
       "      <td>0.000000</td>\n",
       "      <td>40</td>\n",
       "      <td>144.045052</td>\n",
       "      <td>4925.343937</td>\n",
       "      <td>4</td>\n",
       "      <td>SubtreeCrossover</td>\n",
       "    </tr>\n",
       "    <tr>\n",
       "      <th>10065</th>\n",
       "      <td>19</td>\n",
       "      <td>337</td>\n",
       "      <td>0.000000</td>\n",
       "      <td>10</td>\n",
       "      <td>34.824618</td>\n",
       "      <td>4925.343937</td>\n",
       "      <td>1</td>\n",
       "      <td>SubtreeCrossover</td>\n",
       "    </tr>\n",
       "    <tr>\n",
       "      <th>10066</th>\n",
       "      <td>19</td>\n",
       "      <td>338</td>\n",
       "      <td>0.000000</td>\n",
       "      <td>10</td>\n",
       "      <td>34.824618</td>\n",
       "      <td>4925.343937</td>\n",
       "      <td>1</td>\n",
       "      <td>SubtreeCrossover</td>\n",
       "    </tr>\n",
       "    <tr>\n",
       "      <th>10067</th>\n",
       "      <td>19</td>\n",
       "      <td>339</td>\n",
       "      <td>0.000000</td>\n",
       "      <td>100</td>\n",
       "      <td>386.953866</td>\n",
       "      <td>4925.343937</td>\n",
       "      <td>10</td>\n",
       "      <td>SubtreeCrossoverSubtreeCrossover</td>\n",
       "    </tr>\n",
       "    <tr>\n",
       "      <th>10068</th>\n",
       "      <td>19</td>\n",
       "      <td>340</td>\n",
       "      <td>0.000000</td>\n",
       "      <td>40</td>\n",
       "      <td>144.045052</td>\n",
       "      <td>4925.343937</td>\n",
       "      <td>4</td>\n",
       "      <td>SubtreeCrossoverSubtreeCrossover</td>\n",
       "    </tr>\n",
       "    <tr>\n",
       "      <th>10069</th>\n",
       "      <td>19</td>\n",
       "      <td>341</td>\n",
       "      <td>0.000000</td>\n",
       "      <td>20</td>\n",
       "      <td>70.417327</td>\n",
       "      <td>4925.343937</td>\n",
       "      <td>2</td>\n",
       "      <td>SubtreeCrossover</td>\n",
       "    </tr>\n",
       "    <tr>\n",
       "      <th>10070</th>\n",
       "      <td>19</td>\n",
       "      <td>342</td>\n",
       "      <td>0.000000</td>\n",
       "      <td>90</td>\n",
       "      <td>343.973915</td>\n",
       "      <td>4925.343937</td>\n",
       "      <td>9</td>\n",
       "      <td>SubtreeCrossoverSubtreeCrossover</td>\n",
       "    </tr>\n",
       "    <tr>\n",
       "      <th>10071</th>\n",
       "      <td>19</td>\n",
       "      <td>343</td>\n",
       "      <td>0.000000</td>\n",
       "      <td>30</td>\n",
       "      <td>106.812611</td>\n",
       "      <td>4925.343937</td>\n",
       "      <td>3</td>\n",
       "      <td>SubtreeCrossoverSubtreeCrossover</td>\n",
       "    </tr>\n",
       "    <tr>\n",
       "      <th>10072</th>\n",
       "      <td>19</td>\n",
       "      <td>344</td>\n",
       "      <td>0.000000</td>\n",
       "      <td>50</td>\n",
       "      <td>182.149252</td>\n",
       "      <td>4925.343937</td>\n",
       "      <td>5</td>\n",
       "      <td>SubtreeCrossoverSubtreeCrossoverSubtreeCrossover</td>\n",
       "    </tr>\n",
       "    <tr>\n",
       "      <th>10073</th>\n",
       "      <td>19</td>\n",
       "      <td>345</td>\n",
       "      <td>0.000000</td>\n",
       "      <td>10</td>\n",
       "      <td>34.824618</td>\n",
       "      <td>4925.343937</td>\n",
       "      <td>1</td>\n",
       "      <td>SubtreeCrossover</td>\n",
       "    </tr>\n",
       "    <tr>\n",
       "      <th>10074</th>\n",
       "      <td>19</td>\n",
       "      <td>346</td>\n",
       "      <td>0.000000</td>\n",
       "      <td>40</td>\n",
       "      <td>144.045052</td>\n",
       "      <td>4925.343937</td>\n",
       "      <td>4</td>\n",
       "      <td>SubtreeCrossover</td>\n",
       "    </tr>\n",
       "    <tr>\n",
       "      <th>10075</th>\n",
       "      <td>19</td>\n",
       "      <td>347</td>\n",
       "      <td>0.000000</td>\n",
       "      <td>10</td>\n",
       "      <td>34.824618</td>\n",
       "      <td>4925.343937</td>\n",
       "      <td>1</td>\n",
       "      <td>SubtreeCrossover</td>\n",
       "    </tr>\n",
       "    <tr>\n",
       "      <th>10076</th>\n",
       "      <td>19</td>\n",
       "      <td>348</td>\n",
       "      <td>0.000000</td>\n",
       "      <td>120</td>\n",
       "      <td>476.181698</td>\n",
       "      <td>4925.343937</td>\n",
       "      <td>12</td>\n",
       "      <td>SubtreeCrossoverSubtreeCrossoverSubtreeCrossover</td>\n",
       "    </tr>\n",
       "    <tr>\n",
       "      <th>10077</th>\n",
       "      <td>19</td>\n",
       "      <td>349</td>\n",
       "      <td>0.000000</td>\n",
       "      <td>10</td>\n",
       "      <td>34.824618</td>\n",
       "      <td>4925.343937</td>\n",
       "      <td>1</td>\n",
       "      <td>SubtreeCrossover</td>\n",
       "    </tr>\n",
       "    <tr>\n",
       "      <th>10078</th>\n",
       "      <td>19</td>\n",
       "      <td>350</td>\n",
       "      <td>0.000000</td>\n",
       "      <td>110</td>\n",
       "      <td>431.011757</td>\n",
       "      <td>4925.343937</td>\n",
       "      <td>11</td>\n",
       "      <td>SubtreeCrossoverSubtreeCrossoverSubtreeCrossov...</td>\n",
       "    </tr>\n",
       "    <tr>\n",
       "      <th>9983</th>\n",
       "      <td>19</td>\n",
       "      <td>255</td>\n",
       "      <td>0.000000</td>\n",
       "      <td>10</td>\n",
       "      <td>34.824618</td>\n",
       "      <td>4925.343937</td>\n",
       "      <td>1</td>\n",
       "      <td>SubtreeCrossover</td>\n",
       "    </tr>\n",
       "    <tr>\n",
       "      <th>10111</th>\n",
       "      <td>19</td>\n",
       "      <td>383</td>\n",
       "      <td>0.000000</td>\n",
       "      <td>10</td>\n",
       "      <td>34.824618</td>\n",
       "      <td>4925.343937</td>\n",
       "      <td>1</td>\n",
       "      <td>SubtreeCrossover</td>\n",
       "    </tr>\n",
       "  </tbody>\n",
       "</table>\n",
       "<p>10240 rows × 8 columns</p>\n",
       "</div>"
      ],
      "text/plain": [
       "       generation  individual  diff_after_backprop  backprop_iterations  \\\n",
       "9876           19         148             0.000000                    1   \n",
       "9821           19          93             0.000000                    1   \n",
       "9904           19         176             0.000000                    1   \n",
       "10063          19         335             0.000000                    1   \n",
       "10028          19         300             0.000000                    1   \n",
       "9795           19          67             0.000000                    1   \n",
       "9986           19         258             0.000000                    1   \n",
       "10202          19         474             0.000000                    1   \n",
       "10099          19         371             0.000000                   10   \n",
       "10065          19         337             0.000000                   10   \n",
       "10047          19         319             0.000000                   10   \n",
       "10026          19         298             0.000000                   10   \n",
       "10223          19         495             0.000000                   10   \n",
       "10166          19         438             0.000000                   10   \n",
       "10100          19         372            86.331414                   10   \n",
       "9981           19         253             0.000000                   10   \n",
       "9871           19         143             0.000000                   10   \n",
       "10155          19         427             0.000000                   10   \n",
       "9790           19          62             0.000000                   10   \n",
       "9966           19         238             0.000000                   10   \n",
       "10226          19         498             0.000000                   10   \n",
       "10195          19         467             0.000000                   10   \n",
       "10008          19         280             0.000000                   10   \n",
       "10220          19         492             0.000000                   10   \n",
       "9977           19         249             0.000000                   10   \n",
       "10037          19         309             0.000000                   10   \n",
       "9932           19         204             0.000000                   10   \n",
       "9931           19         203             0.000000                   10   \n",
       "10111          19         383             0.000000                   10   \n",
       "9924           19         196             0.000000                   10   \n",
       "...           ...         ...                  ...                  ...   \n",
       "10051          19         323             0.000000                   30   \n",
       "10052          19         324             0.000000                   80   \n",
       "10053          19         325             0.000000                   20   \n",
       "10054          19         326             0.000000                   40   \n",
       "10055          19         327             0.000000                  100   \n",
       "10056          19         328             0.000000                   40   \n",
       "10057          19         329             0.000000                   90   \n",
       "10058          19         330             0.000000                   20   \n",
       "10059          19         331             0.000000                   90   \n",
       "10060          19         332             0.000000                  170   \n",
       "10061          19         333             0.000000                   60   \n",
       "10062          19         334             0.000000                   30   \n",
       "10063          19         335             0.000000                   10   \n",
       "10064          19         336             0.000000                   40   \n",
       "10065          19         337             0.000000                   10   \n",
       "10066          19         338             0.000000                   10   \n",
       "10067          19         339             0.000000                  100   \n",
       "10068          19         340             0.000000                   40   \n",
       "10069          19         341             0.000000                   20   \n",
       "10070          19         342             0.000000                   90   \n",
       "10071          19         343             0.000000                   30   \n",
       "10072          19         344             0.000000                   50   \n",
       "10073          19         345             0.000000                   10   \n",
       "10074          19         346             0.000000                   40   \n",
       "10075          19         347             0.000000                   10   \n",
       "10076          19         348             0.000000                  120   \n",
       "10077          19         349             0.000000                   10   \n",
       "10078          19         350             0.000000                  110   \n",
       "9983           19         255             0.000000                   10   \n",
       "10111          19         383             0.000000                   10   \n",
       "\n",
       "       total_backprop_improvement  current_fitness  generations_alive  \\\n",
       "9876                     0.000000      3388.432944                  1   \n",
       "9821                     0.000000      3388.432944                  1   \n",
       "9904                     0.000000      3388.432944                  1   \n",
       "10063                    0.000000      3388.432944                  1   \n",
       "10028                    0.000000      3388.432944                  1   \n",
       "9795                     0.000000      3388.432944                  1   \n",
       "9986                     0.000000      3388.432944                  1   \n",
       "10202                    0.000000      3749.437424                  1   \n",
       "10099                  103.248313      3759.196272                  1   \n",
       "10065                  103.248313      3759.196272                  1   \n",
       "10047                  103.248313      3759.196272                  1   \n",
       "10026                  103.248313      3759.196272                  1   \n",
       "10223                  103.248313      3759.196272                  1   \n",
       "10166                  103.248313      3759.196272                  1   \n",
       "10100                   90.802286      3759.372858                  1   \n",
       "9981                   114.123010      3762.046030                  1   \n",
       "9871                   117.716633      3762.526433                  1   \n",
       "10155                  117.716633      3762.526433                  1   \n",
       "9790                   117.716633      3762.526433                  1   \n",
       "9966                   117.716633      3762.526433                  1   \n",
       "10226                  107.479190      3763.860802                  1   \n",
       "10195                  107.479190      3763.860802                  1   \n",
       "10008                  107.479190      3763.860802                  1   \n",
       "10220                  107.479190      3763.860802                  1   \n",
       "9977                   107.479190      3763.860802                  1   \n",
       "10037                  107.479190      3763.860802                  1   \n",
       "9932                   107.479190      3763.860802                  1   \n",
       "9931                   107.479190      3763.860802                  1   \n",
       "10111                  109.555278      3764.584425                  1   \n",
       "9924                   109.555278      3764.584425                  1   \n",
       "...                           ...              ...                ...   \n",
       "10051                  106.812611      4925.343937                  3   \n",
       "10052                  302.037749      4925.343937                  8   \n",
       "10053                   70.417327      4925.343937                  2   \n",
       "10054                  144.045052      4925.343937                  4   \n",
       "10055                  386.953866      4925.343937                 10   \n",
       "10056                  144.045052      4925.343937                  4   \n",
       "10057                  343.973915      4925.343937                  9   \n",
       "10058                   70.417327      4925.343937                  2   \n",
       "10059                  343.973915      4925.343937                  9   \n",
       "10060                  719.915485      4925.343937                 17   \n",
       "10061                  221.159783      4925.343937                  6   \n",
       "10062                  106.812611      4925.343937                  3   \n",
       "10063                   34.824618      4925.343937                  1   \n",
       "10064                  144.045052      4925.343937                  4   \n",
       "10065                   34.824618      4925.343937                  1   \n",
       "10066                   34.824618      4925.343937                  1   \n",
       "10067                  386.953866      4925.343937                 10   \n",
       "10068                  144.045052      4925.343937                  4   \n",
       "10069                   70.417327      4925.343937                  2   \n",
       "10070                  343.973915      4925.343937                  9   \n",
       "10071                  106.812611      4925.343937                  3   \n",
       "10072                  182.149252      4925.343937                  5   \n",
       "10073                   34.824618      4925.343937                  1   \n",
       "10074                  144.045052      4925.343937                  4   \n",
       "10075                   34.824618      4925.343937                  1   \n",
       "10076                  476.181698      4925.343937                 12   \n",
       "10077                   34.824618      4925.343937                  1   \n",
       "10078                  431.011757      4925.343937                 11   \n",
       "9983                    34.824618      4925.343937                  1   \n",
       "10111                   34.824618      4925.343937                  1   \n",
       "\n",
       "                                              created_by  \n",
       "9876                                    SubtreeCrossover  \n",
       "9821                                    SubtreeCrossover  \n",
       "9904                                    SubtreeCrossover  \n",
       "10063                                   SubtreeCrossover  \n",
       "10028                                   SubtreeCrossover  \n",
       "9795                                    SubtreeCrossover  \n",
       "9986                                    SubtreeCrossover  \n",
       "10202                                   SubtreeCrossover  \n",
       "10099                                   SubtreeCrossover  \n",
       "10065                                   SubtreeCrossover  \n",
       "10047                                   SubtreeCrossover  \n",
       "10026                                   SubtreeCrossover  \n",
       "10223                                   SubtreeCrossover  \n",
       "10166                                   SubtreeCrossover  \n",
       "10100                                   SubtreeCrossover  \n",
       "9981                                    SubtreeCrossover  \n",
       "9871                                    SubtreeCrossover  \n",
       "10155                                   SubtreeCrossover  \n",
       "9790                                    SubtreeCrossover  \n",
       "9966                                    SubtreeCrossover  \n",
       "10226                                   SubtreeCrossover  \n",
       "10195                                   SubtreeCrossover  \n",
       "10008                                   SubtreeCrossover  \n",
       "10220                                   SubtreeCrossover  \n",
       "9977                                    SubtreeCrossover  \n",
       "10037                                   SubtreeCrossover  \n",
       "9932                                    SubtreeCrossover  \n",
       "9931                                    SubtreeCrossover  \n",
       "10111                                   SubtreeCrossover  \n",
       "9924                                    SubtreeCrossover  \n",
       "...                                                  ...  \n",
       "10051                                   SubtreeCrossover  \n",
       "10052   SubtreeCrossoverSubtreeCrossoverSubtreeCrossover  \n",
       "10053                                   SubtreeCrossover  \n",
       "10054                   SubtreeCrossoverSubtreeCrossover  \n",
       "10055                   SubtreeCrossoverSubtreeCrossover  \n",
       "10056                                   SubtreeCrossover  \n",
       "10057   SubtreeCrossoverSubtreeCrossoverSubtreeCrossover  \n",
       "10058                                   SubtreeCrossover  \n",
       "10059                   SubtreeCrossoverSubtreeCrossover  \n",
       "10060  SubtreeCrossoverSubtreeCrossoverSubtreeCrossov...  \n",
       "10061   SubtreeCrossoverSubtreeCrossoverSubtreeCrossover  \n",
       "10062                                   SubtreeCrossover  \n",
       "10063                                   SubtreeCrossover  \n",
       "10064                                   SubtreeCrossover  \n",
       "10065                                   SubtreeCrossover  \n",
       "10066                                   SubtreeCrossover  \n",
       "10067                   SubtreeCrossoverSubtreeCrossover  \n",
       "10068                   SubtreeCrossoverSubtreeCrossover  \n",
       "10069                                   SubtreeCrossover  \n",
       "10070                   SubtreeCrossoverSubtreeCrossover  \n",
       "10071                   SubtreeCrossoverSubtreeCrossover  \n",
       "10072   SubtreeCrossoverSubtreeCrossoverSubtreeCrossover  \n",
       "10073                                   SubtreeCrossover  \n",
       "10074                                   SubtreeCrossover  \n",
       "10075                                   SubtreeCrossover  \n",
       "10076   SubtreeCrossoverSubtreeCrossoverSubtreeCrossover  \n",
       "10077                                   SubtreeCrossover  \n",
       "10078  SubtreeCrossoverSubtreeCrossoverSubtreeCrossov...  \n",
       "9983                                    SubtreeCrossover  \n",
       "10111                                   SubtreeCrossover  \n",
       "\n",
       "[10240 rows x 8 columns]"
      ]
     },
     "execution_count": 8,
     "metadata": {},
     "output_type": "execute_result"
    }
   ],
   "source": [
    "k[19].sort_values(by=['current_fitness'])"
   ]
  },
  {
   "cell_type": "code",
   "execution_count": 9,
   "metadata": {},
   "outputs": [
    {
     "data": {
      "text/plain": [
       "backprop_iterations\n",
       "1      8\n",
       "10    26\n",
       "30    17\n",
       "Name: current_fitness, dtype: int64"
      ]
     },
     "execution_count": 9,
     "metadata": {},
     "output_type": "execute_result"
    }
   ],
   "source": [
    "df = k[19].sort_values(by=['current_fitness']).head(51)\n",
    "\n",
    "df.groupby('backprop_iterations').count()[\"current_fitness\"]"
   ]
  },
  {
   "cell_type": "code",
   "execution_count": 10,
   "metadata": {},
   "outputs": [
    {
     "data": {
      "text/plain": [
       "generations_alive\n",
       "1    34\n",
       "3    17\n",
       "Name: current_fitness, dtype: int64"
      ]
     },
     "execution_count": 10,
     "metadata": {},
     "output_type": "execute_result"
    }
   ],
   "source": [
    "df = k[19].sort_values(by=['current_fitness']).head(51)\n",
    "\n",
    "df.groupby('generations_alive').count()[\"current_fitness\"]"
   ]
  },
  {
   "cell_type": "code",
   "execution_count": 11,
   "metadata": {},
   "outputs": [
    {
     "data": {
      "text/plain": [
       "<matplotlib.axes._subplots.AxesSubplot at 0x7f3163428160>"
      ]
     },
     "execution_count": 11,
     "metadata": {},
     "output_type": "execute_result"
    },
    {
     "data": {
      "image/png": "[encoded data removed]",
      "text/plain": [
       "<Figure size 432x288 with 1 Axes>"
      ]
     },
     "metadata": {},
     "output_type": "display_data"
    }
   ],
   "source": [
    "df = k[19].sort_values(by=['current_fitness']).head(51)\n",
    "\n",
    "df.plot(x='total_backprop_improvement', y='current_fitness', style=\".\", xlim=(0,200))"
   ]
  },
  {
   "cell_type": "code",
   "execution_count": 12,
   "metadata": {},
   "outputs": [
    {
     "data": {
      "text/plain": [
       "<matplotlib.axes._subplots.AxesSubplot at 0x7f316338d5c0>"
      ]
     },
     "execution_count": 12,
     "metadata": {},
     "output_type": "execute_result"
    },
    {
     "data": {
      "image/png": "[encoded data removed]",
      "text/plain": [
       "<Figure size 432x288 with 1 Axes>"
      ]
     },
     "metadata": {},
     "output_type": "display_data"
    }
   ],
   "source": [
    "df = k[19].sort_values(by=['current_fitness'])\n",
    "\n",
    "df.plot(x='generations_alive', y='current_fitness', style=\".\")"
   ]
  },
  {
   "cell_type": "code",
   "execution_count": 14,
   "metadata": {},
   "outputs": [
    {
     "data": {
      "image/png": "[encoded data removed]",
      "text/plain": [
       "<Figure size 432x288 with 1 Axes>"
      ]
     },
     "metadata": {},
     "output_type": "display_data"
    },
    {
     "name": "stdout",
     "output_type": "stream",
     "text": [
      "6144\n"
     ]
    },
    {
     "data": {
      "image/png": "[encoded data removed]",
      "text/plain": [
       "<Figure size 432x288 with 1 Axes>"
      ]
     },
     "metadata": {},
     "output_type": "display_data"
    },
    {
     "name": "stdout",
     "output_type": "stream",
     "text": [
      "4096\n"
     ]
    },
    {
     "data": {
      "image/png": "[encoded data removed]",
      "text/plain": [
       "<Figure size 432x288 with 1 Axes>"
      ]
     },
     "metadata": {},
     "output_type": "display_data"
    },
    {
     "name": "stdout",
     "output_type": "stream",
     "text": [
      "5120\n"
     ]
    },
    {
     "data": {
      "image/png": "[encoded data removed]",
      "text/plain": [
       "<Figure size 432x288 with 1 Axes>"
      ]
     },
     "metadata": {},
     "output_type": "display_data"
    },
    {
     "name": "stdout",
     "output_type": "stream",
     "text": [
      "5120\n"
     ]
    },
    {
     "data": {
      "image/png": "[encoded data removed]",
      "text/plain": [
       "<Figure size 432x288 with 1 Axes>"
      ]
     },
     "metadata": {},
     "output_type": "display_data"
    },
    {
     "name": "stdout",
     "output_type": "stream",
     "text": [
      "3072\n"
     ]
    },
    {
     "data": {
      "image/png": "[encoded data removed]",
      "text/plain": [
       "<Figure size 432x288 with 1 Axes>"
      ]
     },
     "metadata": {},
     "output_type": "display_data"
    },
    {
     "name": "stdout",
     "output_type": "stream",
     "text": [
      "4608\n"
     ]
    },
    {
     "data": {
      "image/png": "[encoded data removed]",
      "text/plain": [
       "<Figure size 432x288 with 1 Axes>"
      ]
     },
     "metadata": {},
     "output_type": "display_data"
    },
    {
     "name": "stdout",
     "output_type": "stream",
     "text": [
      "5632\n"
     ]
    },
    {
     "data": {
      "image/png": "[encoded data removed]",
      "text/plain": [
       "<Figure size 432x288 with 1 Axes>"
      ]
     },
     "metadata": {},
     "output_type": "display_data"
    },
    {
     "name": "stdout",
     "output_type": "stream",
     "text": [
      "2560\n"
     ]
    },
    {
     "data": {
      "image/png": "[encoded data removed]",
      "text/plain": [
       "<Figure size 432x288 with 1 Axes>"
      ]
     },
     "metadata": {},
     "output_type": "display_data"
    },
    {
     "name": "stdout",
     "output_type": "stream",
     "text": [
      "4608\n"
     ]
    },
    {
     "data": {
      "image/png": "[encoded data removed]",
      "text/plain": [
       "<Figure size 432x288 with 1 Axes>"
      ]
     },
     "metadata": {},
     "output_type": "display_data"
    },
    {
     "name": "stdout",
     "output_type": "stream",
     "text": [
      "2560\n"
     ]
    },
    {
     "data": {
      "image/png": "[encoded data removed]",
      "text/plain": [
       "<Figure size 432x288 with 1 Axes>"
      ]
     },
     "metadata": {},
     "output_type": "display_data"
    },
    {
     "name": "stdout",
     "output_type": "stream",
     "text": [
      "4608\n"
     ]
    },
    {
     "data": {
      "image/png": "[encoded data removed]",
      "text/plain": [
       "<Figure size 432x288 with 1 Axes>"
      ]
     },
     "metadata": {},
     "output_type": "display_data"
    },
    {
     "name": "stdout",
     "output_type": "stream",
     "text": [
      "3072\n"
     ]
    },
    {
     "data": {
      "image/png": "[encoded data removed]",
      "text/plain": [
       "<Figure size 432x288 with 1 Axes>"
      ]
     },
     "metadata": {},
     "output_type": "display_data"
    },
    {
     "name": "stdout",
     "output_type": "stream",
     "text": [
      "6656\n"
     ]
    },
    {
     "data": {
      "image/png": "[encoded data removed]",
      "text/plain": [
       "<Figure size 432x288 with 1 Axes>"
      ]
     },
     "metadata": {},
     "output_type": "display_data"
    },
    {
     "name": "stdout",
     "output_type": "stream",
     "text": [
      "3584\n"
     ]
    },
    {
     "data": {
      "image/png": "[encoded data removed]",
      "text/plain": [
       "<Figure size 432x288 with 1 Axes>"
      ]
     },
     "metadata": {},
     "output_type": "display_data"
    },
    {
     "name": "stdout",
     "output_type": "stream",
     "text": [
      "6656\n"
     ]
    },
    {
     "data": {
      "image/png": "[encoded data removed]",
      "text/plain": [
       "<Figure size 432x288 with 1 Axes>"
      ]
     },
     "metadata": {},
     "output_type": "display_data"
    },
    {
     "name": "stdout",
     "output_type": "stream",
     "text": [
      "5632\n"
     ]
    },
    {
     "data": {
      "image/png": "[encoded data removed]",
      "text/plain": [
       "<Figure size 432x288 with 1 Axes>"
      ]
     },
     "metadata": {},
     "output_type": "display_data"
    },
    {
     "name": "stdout",
     "output_type": "stream",
     "text": [
      "4096\n"
     ]
    },
    {
     "data": {
      "image/png": "[encoded data removed]",
      "text/plain": [
       "<Figure size 432x288 with 1 Axes>"
      ]
     },
     "metadata": {},
     "output_type": "display_data"
    },
    {
     "name": "stdout",
     "output_type": "stream",
     "text": [
      "6656\n"
     ]
    },
    {
     "data": {
      "image/png": "[encoded data removed]",
      "text/plain": [
       "<Figure size 432x288 with 1 Axes>"
      ]
     },
     "metadata": {},
     "output_type": "display_data"
    },
    {
     "name": "stdout",
     "output_type": "stream",
     "text": [
      "7680\n"
     ]
    },
    {
     "data": {
      "image/png": "[encoded data removed]",
      "text/plain": [
       "<Figure size 432x288 with 1 Axes>"
      ]
     },
     "metadata": {},
     "output_type": "display_data"
    },
    {
     "name": "stdout",
     "output_type": "stream",
     "text": [
      "3584\n"
     ]
    }
   ],
   "source": [
    "import matplotlib.pyplot as plt\n",
    "import pylab as pl\n",
    "\n",
    "for i in range(len(k)):    \n",
    "    df = k[i][k[i][\"diff_after_backprop\"] >= 0]\n",
    "    p = df.hist(column=\"diff_after_backprop\", log=True, bins=50)\n",
    "    pl.suptitle(\"Generation \" + str(i))\n",
    "    plt.show()\n",
    "    \n",
    "    print((df[\"diff_after_backprop\"]==0).astype(int).sum())"
   ]
  },
  {
   "cell_type": "code",
   "execution_count": null,
   "metadata": {},
   "outputs": [],
   "source": []
  },
  {
   "cell_type": "code",
   "execution_count": null,
   "metadata": {},
   "outputs": [],
   "source": []
  }
 ],
 "metadata": {
  "kernelspec": {
   "display_name": "Python 3",
   "language": "python",
   "name": "python3"
  },
  "language_info": {
   "codemirror_mode": {
    "name": "ipython",
    "version": 3
   },
   "file_extension": ".py",
   "mimetype": "text/x-python",
   "name": "python",
   "nbconvert_exporter": "python",
   "pygments_lexer": "ipython3",
   "version": "3.6.4"
  }
 },
 "nbformat": 4,
 "nbformat_minor": 2
}

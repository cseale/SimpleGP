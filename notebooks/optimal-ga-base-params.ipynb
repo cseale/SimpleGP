{
 "cells": [
  {
   "cell_type": "code",
   "execution_count": 1,
   "metadata": {},
   "outputs": [],
   "source": [
    "import os \n",
    "\n",
    "experiments = os.listdir(\"../experiments\")"
   ]
  },
  {
   "cell_type": "markdown",
   "metadata": {},
   "source": [
    "### Find Best Params\n",
    "\n",
    "First find the best params"
   ]
  },
  {
   "cell_type": "code",
   "execution_count": 2,
   "metadata": {},
   "outputs": [],
   "source": [
    "def file_read_from_tail(fname,lines):\n",
    "        fname = \"../experiments/\" + fname\n",
    "        bufsize = 8192\n",
    "        fsize = os.stat(fname).st_size\n",
    "        iter = 0\n",
    "        with open(fname) as f:\n",
    "                if bufsize > fsize:\n",
    "                        bufsize = fsize-1\n",
    "                        data = []\n",
    "                        while True:\n",
    "                                iter +=1\n",
    "                                f.seek(fsize-bufsize*iter)\n",
    "                                data.extend(f.readlines())\n",
    "                                if len(data) >= lines or f.tell() == 0:\n",
    "                                        return data[-lines:]\n"
   ]
  },
  {
   "cell_type": "code",
   "execution_count": 3,
   "metadata": {},
   "outputs": [],
   "source": [
    "def parse_mse(line):\n",
    "    mse = float(line.strip()[4:])\n",
    "    return mse"
   ]
  },
  {
   "cell_type": "code",
   "execution_count": 57,
   "metadata": {},
   "outputs": [],
   "source": [
    "from statistics import mean, stdev\n",
    "\n",
    "def aggregateParams(files):\n",
    "    mse_to_params = {}\n",
    "    params_to_mse = {}\n",
    "    \n",
    "    # aggregate mse\n",
    "    for f in files:\n",
    "        key = f[:-6]\n",
    "        d = file_read_from_tail(f,3)\n",
    "        if d == None:\n",
    "            continue\n",
    "        mse = parse_mse(d[0])\n",
    "        \n",
    "        if key not in params_to_mse:\n",
    "            params_to_mse[key] = []\n",
    "        \n",
    "        params_to_mse[key].append(mse)\n",
    "                \n",
    "    # flip and sort mses\n",
    "    all_mse = []\n",
    "    for params in params_to_mse:\n",
    "        # get means and standard deviations\n",
    "        mean_mse = mean(params_to_mse[params])\n",
    "        std_mse = stdev(params_to_mse[params])\n",
    "        # reassign\n",
    "        params_to_mse[params] = (mean_mse, std_mse)\n",
    "        # sort means\n",
    "        all_mse.append(mean_mse)\n",
    "        mse_to_params[mean_mse] = params\n",
    "                 \n",
    "    all_mse.sort()\n",
    "\n",
    "    # return top 5 mses\n",
    "    results = []    \n",
    "    for i in range(20):\n",
    "        params = mse_to_params[all_mse[i]]\n",
    "        (mean_mse, std_mse) = params_to_mse[params]\n",
    "        print(\"Result \" + str(i) + \": \" +  str(params) + \" with mean mse \" + str(mean_mse) + \", std mse \" + str(std_mse))\n",
    "        results.append(params)\n",
    "            \n",
    "    return results, params_to_mse, mse_to_params, all_mse"
   ]
  },
  {
   "cell_type": "code",
   "execution_count": 58,
   "metadata": {},
   "outputs": [
    {
     "name": "stdout",
     "output_type": "stream",
     "text": [
      "Result 0: maxtime20_pop512_mr0.001_tour8_maxHeight2_cr1 with mean mse 4324.2002999999995, std mse 482.374113327232\n",
      "Result 1: maxtime15_pop512_mr0.1_tour8_maxHeight2_cr1 with mean mse 4377.521, std mse 693.5872031814823\n",
      "Result 2: maxtime20_pop512_mr0.01_tour8_maxHeight2_cr1 with mean mse 4411.3274, std mse 531.7482366106058\n",
      "Result 3: maxtime20_pop256_mr0.01_tour8_maxHeight4_cr1 with mean mse 4471.228, std mse 648.0514775324566\n",
      "Result 4: maxtime20_pop1024_mr0.01_tour8_maxHeight2_cr1 with mean mse 4512.0114, std mse 344.5601731893381\n",
      "Result 5: maxtime20_pop1024_mr0_tour8_maxHeight2_cr1 with mean mse 4553.743, std mse 651.7048964724925\n",
      "Result 6: maxtime20_pop1024_mr0.1_tour8_maxHeight2_cr0.75 with mean mse 4554.3984, std mse 511.43883018080584\n",
      "Result 7: maxtime15_pop256_mr0.1_tour8_maxHeight2_cr0.75 with mean mse 4558.7931, std mse 722.5538271608327\n",
      "Result 8: maxtime20_pop1024_mr0.1_tour8_maxHeight2_cr1 with mean mse 4579.0179, std mse 615.8677080512682\n",
      "Result 9: maxtime20_pop1024_mr0.01_tour8_maxHeight2_cr0.75 with mean mse 4583.6148, std mse 626.589239502031\n",
      "Result 10: maxtime15_pop512_mr0.001_tour8_maxHeight2_cr1 with mean mse 4589.2685, std mse 577.7645163773234\n",
      "Result 11: maxtime20_pop1024_mr0.001_tour8_maxHeight2_cr1 with mean mse 4612.7116, std mse 599.8409044859218\n",
      "Result 12: maxtime20_pop512_mr0.1_tour8_maxHeight4_cr1 with mean mse 4637.6362, std mse 836.9829194671378\n",
      "Result 13: maxtime15_pop1024_mr0.001_tour8_maxHeight2_cr1 with mean mse 4649.4338, std mse 511.07424351192753\n",
      "Result 14: maxtime15_pop128_mr0.1_tour8_maxHeight2_cr0.75 with mean mse 4652.5767, std mse 779.5141158083383\n",
      "Result 15: maxtime20_pop1024_mr0.01_tour8_maxHeight2_cr0.5 with mean mse 4659.6862, std mse 566.1097713564825\n",
      "Result 16: maxtime20_pop128_mr0.1_tour4_maxHeight4_cr0.75 with mean mse 4665.5764, std mse 661.5442068674038\n",
      "Result 17: maxtime15_pop512_mr0.001_tour4_maxHeight2_cr1 with mean mse 4667.9241, std mse 685.7625174960676\n",
      "Result 18: maxtime15_pop1024_mr0.1_tour8_maxHeight2_cr0.5 with mean mse 4672.9916, std mse 746.9182129827722\n",
      "Result 19: maxtime15_pop512_mr0.1_tour4_maxHeight2_cr0.75 with mean mse 4693.2549, std mse 835.7418333599664\n"
     ]
    }
   ],
   "source": [
    "results, params_to_mse, mse_to_params, all_mse = aggregateParams(experiments)"
   ]
  },
  {
   "cell_type": "markdown",
   "metadata": {},
   "source": [
    "### Analyse Simple GP Behaviour\n",
    "\n",
    "Holding all other variables constant, lets see what affect the params have"
   ]
  },
  {
   "cell_type": "code",
   "execution_count": null,
   "metadata": {},
   "outputs": [],
   "source": []
  }
 ],
 "metadata": {
  "kernelspec": {
   "display_name": "Python 3",
   "language": "python",
   "name": "python3"
  },
  "language_info": {
   "codemirror_mode": {
    "name": "ipython",
    "version": 3
   },
   "file_extension": ".py",
   "mimetype": "text/x-python",
   "name": "python",
   "nbconvert_exporter": "python",
   "pygments_lexer": "ipython3",
   "version": "3.6.4"
  }
 },
 "nbformat": 4,
 "nbformat_minor": 2
}

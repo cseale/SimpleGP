{
 "cells": [
  {
   "cell_type": "code",
   "execution_count": 1,
   "metadata": {},
   "outputs": [],
   "source": [
    "import os "
   ]
  },
  {
   "cell_type": "markdown",
   "metadata": {},
   "source": [
    "### Find Best Params\n",
    "\n",
    "First find the best params"
   ]
  },
  {
   "cell_type": "code",
   "execution_count": 61,
   "metadata": {},
   "outputs": [],
   "source": [
    "def file_read_from_tail(fname,lines):\n",
    "        fname = fname\n",
    "        bufsize = 8192\n",
    "        fsize = os.stat(fname).st_size\n",
    "        iter = 0\n",
    "        with open(fname) as f:\n",
    "                if bufsize > fsize:\n",
    "                        bufsize = fsize-1\n",
    "                        data = []\n",
    "                        while True:\n",
    "                                iter +=1\n",
    "                                f.seek(fsize-bufsize*iter)\n",
    "                                data.extend(f.readlines())\n",
    "                                if len(data) >= lines or f.tell() == 0:\n",
    "                                        return data[-lines:]\n"
   ]
  },
  {
   "cell_type": "code",
   "execution_count": 62,
   "metadata": {},
   "outputs": [],
   "source": [
    "def parse_mse(line):\n",
    "    mse = float(line.strip()[4:])\n",
    "    return mse"
   ]
  },
  {
   "cell_type": "code",
   "execution_count": 63,
   "metadata": {},
   "outputs": [],
   "source": [
    "from statistics import mean, stdev\n",
    "\n",
    "def aggregateParams(experiment_dir):\n",
    "    files = os.listdir(experiment_dir)\n",
    "    \n",
    "    mse_to_params = {}\n",
    "    params_to_mse = {}\n",
    "    \n",
    "    # aggregate mse\n",
    "    for f in files:\n",
    "        key = f[:-6]\n",
    "        d = file_read_from_tail(experiment_dir + f,3)\n",
    "        if d == None:\n",
    "            continue\n",
    "        mse = parse_mse(d[0])\n",
    "        \n",
    "        if key not in params_to_mse:\n",
    "            params_to_mse[key] = []\n",
    "        \n",
    "        params_to_mse[key].append(mse)\n",
    "                \n",
    "    # flip and sort mses\n",
    "    all_mse = []\n",
    "    for params in params_to_mse:\n",
    "        # get means and standard deviations\n",
    "        mean_mse = mean(params_to_mse[params])\n",
    "        std_mse = stdev(params_to_mse[params])\n",
    "        # reassign\n",
    "        params_to_mse[params] = (mean_mse, std_mse)\n",
    "        # sort means\n",
    "        all_mse.append(mean_mse)\n",
    "        mse_to_params[mean_mse] = params\n",
    "                 \n",
    "    all_mse.sort()\n",
    "\n",
    "    # return top 5 mses\n",
    "    results = []    \n",
    "    for i in range(20):\n",
    "        params = mse_to_params[all_mse[i]]\n",
    "        (mean_mse, std_mse) = params_to_mse[params]\n",
    "        print(\"Result \" + str(i) + \": \" +  str(params) + \" with mean mse \" + str(mean_mse) + \", std mse \" + str(std_mse))\n",
    "        results.append(params)\n",
    "            \n",
    "    return results, params_to_mse, mse_to_params, all_mse"
   ]
  },
  {
   "cell_type": "code",
   "execution_count": 68,
   "metadata": {},
   "outputs": [
    {
     "name": "stdout",
     "output_type": "stream",
     "text": [
      "Result 0: maxtime20_pop512_mr0.001_tour8_maxHeight2_cr1 with mean mse 4324.2002999999995, std mse 482.374113327232\n",
      "Result 1: maxtime15_pop512_mr0.1_tour8_maxHeight2_cr1 with mean mse 4377.521, std mse 693.5872031814823\n",
      "Result 2: maxtime20_pop512_mr0.01_tour8_maxHeight2_cr1 with mean mse 4411.3274, std mse 531.7482366106058\n",
      "Result 3: maxtime20_pop256_mr0.01_tour8_maxHeight4_cr1 with mean mse 4471.228, std mse 648.0514775324566\n",
      "Result 4: maxtime20_pop1024_mr0.01_tour8_maxHeight2_cr1 with mean mse 4512.0114, std mse 344.5601731893381\n",
      "Result 5: maxtime20_pop1024_mr0_tour8_maxHeight2_cr1 with mean mse 4553.743, std mse 651.7048964724925\n",
      "Result 6: maxtime20_pop1024_mr0.1_tour8_maxHeight2_cr0.75 with mean mse 4554.3984, std mse 511.43883018080584\n",
      "Result 7: maxtime15_pop256_mr0.1_tour8_maxHeight2_cr0.75 with mean mse 4558.7931, std mse 722.5538271608327\n",
      "Result 8: maxtime20_pop1024_mr0.1_tour8_maxHeight2_cr1 with mean mse 4579.0179, std mse 615.8677080512682\n",
      "Result 9: maxtime20_pop1024_mr0.01_tour8_maxHeight2_cr0.75 with mean mse 4583.6148, std mse 626.589239502031\n",
      "Result 10: maxtime15_pop512_mr0.001_tour8_maxHeight2_cr1 with mean mse 4589.2685, std mse 577.7645163773234\n",
      "Result 11: maxtime20_pop1024_mr0.001_tour8_maxHeight2_cr1 with mean mse 4612.7116, std mse 599.8409044859218\n",
      "Result 12: maxtime20_pop512_mr0.1_tour8_maxHeight4_cr1 with mean mse 4637.6362, std mse 836.9829194671378\n",
      "Result 13: maxtime15_pop1024_mr0.001_tour8_maxHeight2_cr1 with mean mse 4649.4338, std mse 511.07424351192753\n",
      "Result 14: maxtime15_pop128_mr0.1_tour8_maxHeight2_cr0.75 with mean mse 4652.5767, std mse 779.5141158083383\n",
      "Result 15: maxtime20_pop1024_mr0.01_tour8_maxHeight2_cr0.5 with mean mse 4659.6862, std mse 566.1097713564825\n",
      "Result 16: maxtime20_pop128_mr0.1_tour4_maxHeight4_cr0.75 with mean mse 4665.5764, std mse 661.5442068674038\n",
      "Result 17: maxtime15_pop512_mr0.001_tour4_maxHeight2_cr1 with mean mse 4667.9241, std mse 685.7625174960676\n",
      "Result 18: maxtime15_pop1024_mr0.1_tour8_maxHeight2_cr0.5 with mean mse 4672.9916, std mse 746.9182129827722\n",
      "Result 19: maxtime15_pop512_mr0.1_tour4_maxHeight2_cr0.75 with mean mse 4693.2549, std mse 835.7418333599664\n"
     ]
    }
   ],
   "source": [
    "all_results, all_params_to_mse, all_mse_to_params, all_mse = aggregateParams(\"../experiments_10iterations_all_params/\")"
   ]
  },
  {
   "cell_type": "code",
   "execution_count": 69,
   "metadata": {},
   "outputs": [
    {
     "name": "stdout",
     "output_type": "stream",
     "text": [
      "Result 0: maxtime20_pop1024_mr0.01_tour8_maxHeight2_cr1 with mean mse 4255.3157, std mse 427.8428027751029\n",
      "Result 1: maxtime20_pop512_mr0.001_tour8_maxHeight2_cr1 with mean mse 4261.8011, std mse 528.8334886858581\n",
      "Result 2: maxtime20_pop512_mr0_tour8_maxHeight2_cr1 with mean mse 4361.0518, std mse 501.0283281970746\n",
      "Result 3: maxtime20_pop1024_mr0_tour8_maxHeight2_cr0.75_ with mean mse 4416.37565, std mse 595.9186940672073\n",
      "Result 4: maxtime20_pop1024_mr0.1_tour8_maxHeight2_cr0.75 with mean mse 4440.2348999999995, std mse 677.5112317585509\n",
      "Result 5: maxtime20_pop256_mr0.1_tour8_maxHeight2_cr1 with mean mse 4602.8132, std mse 1031.132105304413\n",
      "Result 6: maxtime20_pop1024_mr0_tour8_maxHeight2_cr1 with mean mse 4629.3755, std mse 365.57950049271096\n",
      "Result 7: maxtime20_pop512_mr0.001_tour8_maxHeight4_cr1_ with mean mse 4630.4113, std mse 702.2391331189037\n",
      "Result 8: maxtime20_pop256_mr0.001_tour8_maxHeight4_cr1_ with mean mse 4632.05625, std mse 1112.4464865896093\n",
      "Result 9: maxtime20_pop256_mr0_tour8_maxHeight4_cr1 with mean mse 4642.5822, std mse 737.5629455295173\n",
      "Result 10: maxtime20_pop1024_mr0.01_tour8_maxHeight2_cr0.75_ with mean mse 4655.29305, std mse 654.6006212665676\n",
      "Result 11: maxtime20_pop512_mr0.1_tour4_maxHeight2_cr1_ with mean mse 4672.7448, std mse 675.5809323317774\n",
      "Result 12: maxtime20_pop512_mr0.1_tour4_maxHeight2_cr1 with mean mse 4676.338299999999, std mse 1091.410261238596\n",
      "Result 13: maxtime20_pop1024_mr0.1_tour8_maxHeight2_cr1_ with mean mse 4680.3998, std mse 699.8124930560516\n",
      "Result 14: maxtime20_pop512_mr0.001_tour4_maxHeight2_cr1 with mean mse 4689.9635, std mse 604.2388229800182\n",
      "Result 15: maxtime20_pop512_mr0.001_tour8_maxHeight4_cr1 with mean mse 4733.7585, std mse 788.1604315487848\n",
      "Result 16: maxtime20_pop512_mr0.01_tour8_maxHeight2_cr1_ with mean mse 4737.04195, std mse 1990.6486794296734\n",
      "Result 17: maxtime20_pop256_mr0_tour8_maxHeight2_cr1 with mean mse 4806.5837, std mse 1312.6667117030674\n",
      "Result 18: maxtime20_pop1024_mr0_tour4_maxHeight2_cr1 with mean mse 4811.7519, std mse 564.76634328021\n",
      "Result 19: maxtime20_pop1024_mr0.01_tour4_maxHeight2_cr0.75 with mean mse 4832.2823, std mse 1985.9178390909242\n"
     ]
    }
   ],
   "source": [
    "best_results, best_params_to_mse, best_mse_to_params, best_mse = aggregateParams(\"../experiments_30_iterations_best_params/\")"
   ]
  },
  {
   "cell_type": "markdown",
   "metadata": {},
   "source": [
    "### Analyse Simple GP Behaviour\n",
    "\n",
    "Holding all other variables constant, lets see what affect the params have"
   ]
  },
  {
   "cell_type": "code",
   "execution_count": 77,
   "metadata": {},
   "outputs": [],
   "source": [
    "def calc_means_and_stds(template_str, options):\n",
    "    values = []\n",
    "    for o in options:\n",
    "        key = template_str.format(o)\n",
    "        values.append((o ,all_params_to_mse[key]))\n",
    "    return values"
   ]
  },
  {
   "cell_type": "code",
   "execution_count": 93,
   "metadata": {},
   "outputs": [],
   "source": [
    "import matplotlib.pyplot as plt\n",
    "import numpy as np\n",
    "\n",
    "def errorbar_plot(values):\n",
    "    x = [] \n",
    "    y =[] \n",
    "    e = []\n",
    "    \n",
    "    for v in values:\n",
    "        x.append(v[0])\n",
    "        y.append(v[1][0])\n",
    "        e.append(v[1][1])\n",
    "    \n",
    "    x = np.array(x)\n",
    "    y = np.array(y)\n",
    "    e = np.array(e)\n",
    "    plt.errorbar(x, y, e, linestyle='-', marker='^')\n",
    "    plt.show()"
   ]
  },
  {
   "cell_type": "code",
   "execution_count": 94,
   "metadata": {},
   "outputs": [
    {
     "data": {
      "image/png": "[encoded data removed]",
      "text/plain": [
       "<Figure size 432x288 with 1 Axes>"
      ]
     },
     "metadata": {},
     "output_type": "display_data"
    }
   ],
   "source": [
    "#### Variation with population size\n",
    "\n",
    "template_pop_f = \"maxtime20_pop{}_mr0.01_tour8_maxHeight2_cr1\"\n",
    "populations = [64, 128, 256, 512, 1024, 2048, 4096, 8192]\n",
    "\n",
    "errorbar_plot(calc_means_and_stds(template_pop_f, populations))"
   ]
  },
  {
   "cell_type": "code",
   "execution_count": 95,
   "metadata": {},
   "outputs": [
    {
     "data": {
      "image/png": "[encoded data removed]",
      "text/plain": [
       "<Figure size 432x288 with 1 Axes>"
      ]
     },
     "metadata": {},
     "output_type": "display_data"
    }
   ],
   "source": [
    "#### Variation with mutation rate\n",
    "\n",
    "template_mr_f = \"maxtime20_pop512_mr{}_tour8_maxHeight2_cr1\"\n",
    "mutation_rates = [0, 0.001, 0.01, 0.1]\n",
    "\n",
    "errorbar_plot(calc_means_and_stds(template_mr_f, mutation_rates))"
   ]
  },
  {
   "cell_type": "code",
   "execution_count": 96,
   "metadata": {},
   "outputs": [
    {
     "data": {
      "image/png": "[encoded data removed]",
      "text/plain": [
       "<Figure size 432x288 with 1 Axes>"
      ]
     },
     "metadata": {},
     "output_type": "display_data"
    }
   ],
   "source": [
    "#### Variation with tour size\n",
    "\n",
    "template_tour_f = \"maxtime20_pop512_mr0.01_tour{}_maxHeight2_cr1\"\n",
    "tour_size = [2, 4, 8]\n",
    "\n",
    "errorbar_plot(calc_means_and_stds(template_tour_f, tour_size))"
   ]
  },
  {
   "cell_type": "code",
   "execution_count": 97,
   "metadata": {},
   "outputs": [
    {
     "data": {
      "image/png": "[encoded data removed]",
      "text/plain": [
       "<Figure size 432x288 with 1 Axes>"
      ]
     },
     "metadata": {},
     "output_type": "display_data"
    }
   ],
   "source": [
    "#### Variation with tour size\n",
    "\n",
    "template_max_f = \"maxtime20_pop512_mr0.01_tour8_maxHeight{}_cr1\"\n",
    "maxHeights = [2, 4, 8]\n",
    "\n",
    "errorbar_plot(calc_means_and_stds(template_max_f, maxHeights))"
   ]
  },
  {
   "cell_type": "code",
   "execution_count": 98,
   "metadata": {},
   "outputs": [
    {
     "data": {
      "image/png": "[encoded data removed]",
      "text/plain": [
       "<Figure size 432x288 with 1 Axes>"
      ]
     },
     "metadata": {},
     "output_type": "display_data"
    }
   ],
   "source": [
    "#### Variation with crossover rate\n",
    "\n",
    "template_cr_f = \"maxtime20_pop512_mr0.01_tour8_maxHeight2_cr{}\"\n",
    "crossoverRates = [0.25, 0.5, 0.75, 1] \n",
    "\n",
    "errorbar_plot(calc_means_and_stds(template_cr_f, crossoverRates))"
   ]
  },
  {
   "cell_type": "code",
   "execution_count": 99,
   "metadata": {},
   "outputs": [
    {
     "data": {
      "image/png": "[encoded data removed]",
      "text/plain": [
       "<Figure size 432x288 with 1 Axes>"
      ]
     },
     "metadata": {},
     "output_type": "display_data"
    }
   ],
   "source": [
    "#### Variation with max time\n",
    "\n",
    "template_mt_f = \"maxtime{}_pop512_mr0.01_tour8_maxHeight2_cr1\"\n",
    "maxTime = [5, 10, 15, 20]\n",
    "\n",
    "errorbar_plot(calc_means_and_stds(template_mt_f, maxTime))"
   ]
  },
  {
   "cell_type": "code",
   "execution_count": null,
   "metadata": {},
   "outputs": [],
   "source": []
  }
 ],
 "metadata": {
  "kernelspec": {
   "display_name": "Python 3",
   "language": "python",
   "name": "python3"
  },
  "language_info": {
   "codemirror_mode": {
    "name": "ipython",
    "version": 3
   },
   "file_extension": ".py",
   "mimetype": "text/x-python",
   "name": "python",
   "nbconvert_exporter": "python",
   "pygments_lexer": "ipython3",
   "version": "3.6.4"
  }
 },
 "nbformat": 4,
 "nbformat_minor": 2
}
